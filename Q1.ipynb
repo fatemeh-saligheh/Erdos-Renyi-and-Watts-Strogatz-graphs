{
 "cells": [
  {
   "cell_type": "code",
   "execution_count": 24,
   "metadata": {},
   "outputs": [],
   "source": [
    "import random\n",
    "import numpy\n",
    "from numpy import linspace\n",
    "import matplotlib.pyplot as plt\n",
    "\n",
    "\n",
    "def ErdosRenyi(n,p):\n",
    "    adj = [[] for x in range(n)]\n",
    "    vertices = [i for i in range(n)]\n",
    "    edges = [(i,j) for i in range(n) for j in range(i) if random.random() < p]\n",
    "    \n",
    "    for (i,j) in edges:\n",
    "        adj[i].append(vertices[j])\n",
    "        adj[j].append(vertices[i])\n",
    "    return adj\n",
    "\n",
    "\n",
    "def Component(edge, visited,adj):\n",
    "    for v in edge:\n",
    "        if v not in visited:\n",
    "            visited.add(v)\n",
    "            Component(adj[v], visited,adj)\n",
    "\n",
    "\n",
    "def connectedComponents(adj):\n",
    "    components = []\n",
    "    cumulativeVisited = set()\n",
    "\n",
    "    for v in range(len(adj)):\n",
    "        if v not in cumulativeVisited:\n",
    "            componentVisited = set([v])\n",
    "            Component(adj[v], componentVisited,adj)\n",
    "\n",
    "            components.append(componentVisited)\n",
    "            cumulativeVisited |= componentVisited\n",
    "\n",
    "    assert sum(len(c) for c in components) == len(adj)\n",
    "    return components\n",
    "\n",
    "\n",
    "def sizeOfLargestComponent(adj):\n",
    "    return max(len(c) for c in connectedComponents(adj))\n",
    "\n",
    "def sizeOfComponent(adj):\n",
    "    new_list = set(len(c) for c in connectedComponents(adj)) \n",
    "    new_list.remove(max(new_list)) \n",
    "    x = max(new_list) if new_list else 0\n",
    "    return x\n",
    "\n",
    "def sizeOfIsolatedNode(adj):\n",
    "    s = 0\n",
    "    for i in range(len(adj)):\n",
    "        if(len(adj[i])== 0 ):\n",
    "            s += 1\n",
    "    return s\n"
   ]
  },
  {
   "cell_type": "code",
   "execution_count": 51,
   "metadata": {},
   "outputs": [
    {
     "data": {
      "text/plain": [
       "[[2, 5, 6],\n",
       " [4, 9],\n",
       " [0, 3],\n",
       " [2, 8],\n",
       " [1, 6, 8],\n",
       " [0, 6],\n",
       " [0, 4, 5, 9],\n",
       " [8],\n",
       " [3, 4, 7, 9],\n",
       " [1, 6, 8]]"
      ]
     },
     "execution_count": 51,
     "metadata": {},
     "output_type": "execute_result"
    }
   ],
   "source": [
    "randomGraph(10,0.3)"
   ]
  },
  {
   "cell_type": "code",
   "execution_count": 11,
   "metadata": {},
   "outputs": [
    {
     "name": "stdout",
     "output_type": "stream",
     "text": [
      "9998674.7\n",
      "9999000.0\n"
     ]
    }
   ],
   "source": [
    "#A\n",
    "def Q1A(n,p):\n",
    "    edge = 0\n",
    "    G = ErdosRenyi(n,p)\n",
    "    for i in range(n):\n",
    "        edge = edge + len(G[i])\n",
    "    return edge/2\n",
    "\n",
    "su = 0\n",
    "for i in range(30):\n",
    "    su = su + Q1A(10000,0.2)\n",
    "mean = su/30\n",
    "print(mean)\n",
    "print(10000*9999*0.2/2)"
   ]
  },
  {
   "cell_type": "code",
   "execution_count": 12,
   "metadata": {},
   "outputs": [
    {
     "name": "stdout",
     "output_type": "stream",
     "text": [
      "3.3333333333333335\n"
     ]
    }
   ],
   "source": [
    "#B--------> p<1/n\n",
    "def Q1B(n,p):\n",
    "    G = ErdosRenyi(n,p)\n",
    "    return sizeOfLargestComponent(G)\n",
    "\n",
    "su = 0\n",
    "for i in range(30):\n",
    "    su = su + Q1B(1000,0.0001)\n",
    "mean = su/30\n",
    "print(mean)\n",
    "# print(math.log)"
   ]
  },
  {
   "cell_type": "code",
   "execution_count": 4,
   "metadata": {},
   "outputs": [
    {
     "name": "stdout",
     "output_type": "stream",
     "text": [
      "82.16666666666667\n"
     ]
    }
   ],
   "source": [
    "#C-------->p=1/n\n",
    "def Q1C(n,p):\n",
    "    G = ErdosRenyi(n,p)\n",
    "    return sizeOfLargestComponent(G)\n",
    "\n",
    "su = 0\n",
    "for i in range(30):\n",
    "    su = su + Q1C(1000,0.001)\n",
    "mean = su/30\n",
    "print(mean)"
   ]
  },
  {
   "cell_type": "code",
   "execution_count": 25,
   "metadata": {},
   "outputs": [
    {
     "name": "stdout",
     "output_type": "stream",
     "text": [
      "giant component: 999.9 second component: 0.1\n"
     ]
    }
   ],
   "source": [
    "#D-------->p>1/n\n",
    "def Q1D(n,p):\n",
    "    G = ErdosRenyi(n,p)\n",
    "    return sizeOfLargestComponent(G),sizeOfComponent(G)\n",
    "\n",
    "su = 0\n",
    "su2 = 0\n",
    "for i in range(30):\n",
    "    c1,c2=Q1D(1000,0.01)\n",
    "    su = su + c1\n",
    "    su2 = su2 + c2\n",
    "mean = su/30\n",
    "mean2 = su2/30\n",
    "print('giant component:',mean,'second component:',mean2)"
   ]
  },
  {
   "cell_type": "code",
   "execution_count": 88,
   "metadata": {},
   "outputs": [
    {
     "name": "stdout",
     "output_type": "stream",
     "text": [
      "549.8\n"
     ]
    }
   ],
   "source": [
    "#E-------->p<ln(n)/n\n",
    "def Q1E(n,p):\n",
    "    G = ErdosRenyi(n,p)\n",
    "    return sizeOfIsolatedNode(G)\n",
    "\n",
    "su = 0\n",
    "#ln(n)/n = 0.006\n",
    "for i in range(30):\n",
    "    su = su + Q1E(1000,0.0006)\n",
    "mean = su/30\n",
    "print(mean)"
   ]
  },
  {
   "cell_type": "code",
   "execution_count": 91,
   "metadata": {},
   "outputs": [
    {
     "name": "stdout",
     "output_type": "stream",
     "text": [
      "0.8333333333333334\n"
     ]
    }
   ],
   "source": [
    "#F-------->p>ln(n)/n\n",
    "def Q1F(n,p):\n",
    "    G = ErdosRenyi(n,p)\n",
    "    return sizeOfIsolatedNode(G)\n",
    "\n",
    "su = 0\n",
    "#ln(n)/n = 0.006\n",
    "for i in range(30):\n",
    "    su = su + Q1F(1000,0.007)\n",
    "mean = su/30\n",
    "print(mean)"
   ]
  },
  {
   "cell_type": "code",
   "execution_count": 26,
   "metadata": {},
   "outputs": [],
   "source": [
    "from collections import defaultdict \n",
    "  \n",
    "#Class to represent a graph \n",
    "class Graph: \n",
    "    def minDistance(self,dist,queue): \n",
    "        # Initialize min value and min_index as -1 \n",
    "        minimum = float(\"Inf\") \n",
    "        min_index = -1\n",
    "        for i in range(len(dist)): \n",
    "            if dist[i] < minimum and i in queue: \n",
    "                minimum = dist[i] \n",
    "                min_index = i \n",
    "        return min_index \n",
    "\n",
    "    def dijkstra(self, graph, src): \n",
    "  \n",
    "        row = len(graph) \n",
    "        col = len(graph[0]) \n",
    "  \n",
    "        # The output array. dist[i] will hold \n",
    "        # the shortest distance from src to i \n",
    "        # Initialize all distances as INFINITE  \n",
    "        dist = [float(\"Inf\")] * row \n",
    "  \n",
    "        #Parent array to store  \n",
    "        # shortest path tree \n",
    "        parent = [-1] * row \n",
    "  \n",
    "        # Distance of source vertex  \n",
    "        # from itself is always 0 \n",
    "        dist[src] = 0\n",
    "      \n",
    "        # Add all vertices in queue \n",
    "        queue = [] \n",
    "        for i in range(row): \n",
    "            queue.append(i) \n",
    "              \n",
    "        #Find shortest path for all vertices \n",
    "        while queue: \n",
    "  \n",
    "            # Pick the minimum dist vertex  \n",
    "            # from the set of vertices \n",
    "            # still in queue \n",
    "            u = self.minDistance(dist,queue)  \n",
    "  \n",
    "            # remove min element \n",
    "#             res = any(u in i for i in queue)\n",
    "#             if(res):\n",
    "            queue.remove(u) \n",
    "  \n",
    "            # Update dist value and parent  \n",
    "            # index of the adjacent vertices of \n",
    "            # the picked vertex. Consider only  \n",
    "            # those vertices which are still in \n",
    "            # queue \n",
    "            for i in range(col): \n",
    "                '''Update dist[i] only if it is in queue, there is \n",
    "                an edge from u to i, and total weight of path from \n",
    "                src to i through u is smaller than current value of \n",
    "                dist[i]'''\n",
    "                if graph[u][i] and i in queue: \n",
    "                    if dist[u] + graph[u][i] < dist[i]: \n",
    "                        dist[i] = dist[u] + graph[u][i] \n",
    "                        parent[i] = u \n",
    "  \n",
    "  \n",
    "        # print the constructed distance array \n",
    "#         return self.printSolution(dist,parent)/(len(graph)-1)\n",
    "        return dist"
   ]
  },
  {
   "cell_type": "code",
   "execution_count": 33,
   "metadata": {},
   "outputs": [
    {
     "name": "stdout",
     "output_type": "stream",
     "text": [
      "average_shortest_path_length: 2.254600000000001\n",
      "average_shortest_path_length: 2.556250000000001\n",
      "average_shortest_path_length: 2.743822222222222\n",
      "average_shortest_path_length: 2.8117\n",
      "average_shortest_path_length: 2.954024\n",
      "[100, 200, 300, 400, 500]\n",
      "[2.254600000000001, 2.556250000000001, 2.743822222222222, 2.8117, 2.954024]\n"
     ]
    },
    {
     "data": {
      "image/png": "[encoded data removed]",
      "text/plain": [
       "<Figure size 432x288 with 1 Axes>"
      ]
     },
     "metadata": {
      "needs_background": "light"
     },
     "output_type": "display_data"
    }
   ],
   "source": [
    "#G\n",
    "import pylab\n",
    "def Q1G(n,p):\n",
    "    g=Graph()\n",
    "    G= ErdosRenyi(n,p)\n",
    "    graph = [[0]*len(G) for x in range(len(G))]\n",
    "    for i in range(len(G)):\n",
    "        for j in range(len(G[i])):\n",
    "            graph[i][G[i][j]] = 1\n",
    "    sumi = 0\n",
    "    for i in range(len(G)):\n",
    "        dist = g.dijkstra(graph,i) \n",
    "        sumii = 0\n",
    "        for j in range(len(dist)):\n",
    "                sumii = sumii + dist[j]\n",
    "        sumi = sumi+(sumii/len(dist))\n",
    "    print('average_shortest_path_length:',sumi/len(G))\n",
    "    return sumi/len(G)\n",
    "    \n",
    "x=[100,200,300,400,500]\n",
    "y=[]\n",
    "for i in x:\n",
    "    y.append(Q1G(i,10/i))\n",
    "print(x)\n",
    "print(y)\n",
    "pylab.plot(x,y) \n",
    "pylab.plot(x,y,'co') \n",
    "pylab.show()"
   ]
  },
  {
   "cell_type": "code",
   "execution_count": null,
   "metadata": {},
   "outputs": [],
   "source": []
  },
  {
   "cell_type": "code",
   "execution_count": null,
   "metadata": {},
   "outputs": [],
   "source": []
  }
 ],
 "metadata": {
  "kernelspec": {
   "display_name": "Python 3",
   "language": "python",
   "name": "python3"
  },
  "language_info": {
   "codemirror_mode": {
    "name": "ipython",
    "version": 3
   },
   "file_extension": ".py",
   "mimetype": "text/x-python",
   "name": "python",
   "nbconvert_exporter": "python",
   "pygments_lexer": "ipython3",
   "version": "3.7.1"
  }
 },
 "nbformat": 4,
 "nbformat_minor": 2
}
