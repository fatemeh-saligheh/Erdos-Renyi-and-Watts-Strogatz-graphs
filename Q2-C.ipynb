{
 "cells": [
  {
   "cell_type": "code",
   "execution_count": 1,
   "metadata": {},
   "outputs": [],
   "source": [
    "# this part is for creating WattsStrogatz graph\n",
    "import random\n",
    "import numpy\n",
    "from numpy import linspace\n",
    "import matplotlib.pyplot as plt\n",
    "\n",
    "def WattsStrogatz(n,k,B):\n",
    "    #regular matrix\n",
    "    G = regular(n,k)\n",
    "    graph = [[0]*len(G) for x in range(len(G))]\n",
    "    for i in range(len(G)):\n",
    "        for j in G[i]:\n",
    "            graph[i][j] = 1\n",
    "    #rewire       \n",
    "    for i in range(len(G)):\n",
    "        for j in range(len(G)):\n",
    "            if(graph[i][j]==1):\n",
    "                if(random.random() < B):\n",
    "                    graph[i][j]=0\n",
    "                    nr = numpy.random.randint(0,n,dtype='l')\n",
    "                    # we should not have loop and self-loop and duplicate \n",
    "                    while(nr == i and nr ==j):\n",
    "                        nr = numpy.random.randint(0,n,dtype='l')\n",
    "                    \n",
    "                    graph[i][nr] = 1\n",
    "    return graph\n",
    "   \n",
    "def regular(n,k):\n",
    "    if(k%2==1):\n",
    "        k=k-1\n",
    "    adj = [[] for x in range(n)]\n",
    "    edges=[]\n",
    "    \n",
    "    for i in range(k//2 , n-k//2):\n",
    "        for j in range(1,k//2+1):\n",
    "            edges.append((i,i+j))\n",
    "            edges.append((i,i-j))\n",
    "            \n",
    "    for i in range(k//2):\n",
    "        for j in range(1,k//2+1):\n",
    "            edges.append((i,i+j))\n",
    "            edges.append((i,(i-j+n)%n))\n",
    "            \n",
    "    for i in range(n-k//2,n):\n",
    "        for j in range(1,k//2+1):\n",
    "            edges.append((i,(i+j)%n))\n",
    "            edges.append((i,i-j))\n",
    "    for (i,j) in edges:\n",
    "        adj[i].append(j)\n",
    "    return adj"
   ]
  },
  {
   "cell_type": "code",
   "execution_count": 9,
   "metadata": {},
   "outputs": [
    {
     "name": "stdout",
     "output_type": "stream",
     "text": [
      "0\n",
      "0.4\n",
      "0.8\n",
      "1\n"
     ]
    },
    {
     "data": {
      "image/png": "[encoded data removed]",
      "text/plain": [
       "<Figure size 432x288 with 1 Axes>"
      ]
     },
     "metadata": {
      "needs_background": "light"
     },
     "output_type": "display_data"
    }
   ],
   "source": [
    "#C\n",
    "import pylab\n",
    "def clusteringCo(G):\n",
    "    sumi = 0\n",
    "    for i in range(len(G)):\n",
    "        for j in range(len(G)):\n",
    "            if(i!=j):\n",
    "                for k in range(len(G)):\n",
    "                    if(k!=i and G[j][k]==1):\n",
    "                        sumi = sumi + 1\n",
    "    return (sumi)/((len(G)-1)*(len(G)-2))       \n",
    "x = [0,0.4,0.8,1]\n",
    "y=[]\n",
    "for i in x:\n",
    "    print(i)\n",
    "    G = WattsStrogatz(1000,70,i)\n",
    "    y.append(clusteringCo(G))\n",
    "pylab.plot(x,y) \n",
    "pylab.plot(x,y,'co') \n",
    "# pylab.plot(x,2*means,x,2*means) \n",
    "pylab.show()"
   ]
  },
  {
   "cell_type": "code",
   "execution_count": null,
   "metadata": {},
   "outputs": [],
   "source": []
  }
 ],
 "metadata": {
  "kernelspec": {
   "display_name": "Python 3",
   "language": "python",
   "name": "python3"
  },
  "language_info": {
   "codemirror_mode": {
    "name": "ipython",
    "version": 3
   },
   "file_extension": ".py",
   "mimetype": "text/x-python",
   "name": "python",
   "nbconvert_exporter": "python",
   "pygments_lexer": "ipython3",
   "version": "3.7.1"
  }
 },
 "nbformat": 4,
 "nbformat_minor": 2
}
